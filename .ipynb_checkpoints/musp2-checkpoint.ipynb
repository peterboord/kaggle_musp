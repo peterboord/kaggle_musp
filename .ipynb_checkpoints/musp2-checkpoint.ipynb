{
 "cells": [
  {
   "cell_type": "code",
   "execution_count": 326,
   "metadata": {
    "code_folding": [
     0
    ],
    "collapsed": false
   },
   "outputs": [],
   "source": [
    "# libraries\n",
    "import csv\n",
    "from IPython.display import clear_output\n",
    "from matplotlib import pyplot as plt\n",
    "import numpy as np\n",
    "import os\n",
    "from scipy.io import loadmat\n",
    "from scipy.stats import mannwhitneyu\n",
    "from sklearn import linear_model\n",
    "from sklearn.decomposition import PCA\n",
    "from sklearn.metrics import roc_auc_score, roc_curve\n",
    "import sys\n",
    "import time\n",
    "# directories\n",
    "muspDir='/home/pboord/Downloads/kaggle/musp'\n",
    "dataDir=os.path.join(muspDir,'data')\n",
    "dataSet='train_1'\n",
    "dataSetPath=os.path.join(dataDir,dataSet)\n",
    "# Constants\n",
    "nrCh = 16\n",
    "nrLowTri = np.tril_indices(nrCh,k=-1)[0].shape[0]"
   ]
  },
  {
   "cell_type": "code",
   "execution_count": 572,
   "metadata": {
    "code_folding": [],
    "collapsed": false
   },
   "outputs": [],
   "source": [
    "# functions\n",
    "def sumSq(data):\n",
    "    return np.sum(np.square(data))/np.prod(data.shape)\n",
    "def corVector(data):\n",
    "    corArray = np.corrcoef(data.T)\n",
    "    return corArray[np.tril_indices(data.shape[1],k=-1)]\n",
    "def covVector(data):\n",
    "    data -= np.mean(data,axis=0)\n",
    "    covArray = np.cov(data.T)\n",
    "    return covArray[np.tril_indices(data.shape[1],k=-1)]\n",
    "def yTrue(list0,list1):\n",
    "    return np.concatenate((np.zeros((len(list0),)),np.ones((len(list2),))),axis=0)\n",
    "def subjMatClass(dataSetPath):\n",
    "    matClass = {}\n",
    "    # mat files in directory\n",
    "    (_, _, filenames) = os.walk(dataSetPath).next()\n",
    "    with open(os.path.join(muspDir,'train_and_test_data_labels_safe.csv')) as csvfile:\n",
    "        reader = csv.DictReader(csvfile)\n",
    "        for row in reader:\n",
    "            if row['safe'] and row['image'] in filenames:\n",
    "                matClass[row['image']] = str.split(row['image'].split('_')[2],'.')[0] == '1'    \n",
    "    return matClass\n",
    "def genFeature(featureFn):\n",
    "    featOut = {}\n",
    "    loopNr = 0\n",
    "    for matFile in matClass.keys():\n",
    "        time0 = time.time()\n",
    "        loopNr += 1\n",
    "        try:\n",
    "            data = loadmat(os.path.join(dataSetPath,matFile))['dataStruct']['data'][0][0,]\n",
    "        except ValueError:\n",
    "            del matClass[matFile]\n",
    "            continue\n",
    "        # process data\n",
    "        featOut[matFile] = featureFn(data)\n",
    "        print(str( (len(matClass) - loopNr)*(time0 - time.time()) ))\n",
    "        clear_output(wait=True)\n",
    "    return featOut\n",
    "def histFeatures(featCor0,featCor1):\n",
    "    # allow arrays as input (as well as lists)\n",
    "    featCor0 = list(featCor0)\n",
    "    featCor1 = list(featCor1)\n",
    "    bin_edges = np.histogram(featCor0 + featCor1)[1]\n",
    "    width = 0.5 * (bin_edges[1] - bin_edges[0])\n",
    "    hist0 = np.histogram(featCor0,bin_edges)[0]\n",
    "    hist1 = np.histogram(featCor1,bin_edges)[0]\n",
    "    plt.bar(bin_edges[0:10], hist0.astype(float)/sum(hist0), width, alpha=0.5, color='r', label='0')\n",
    "    plt.bar(bin_edges[0:10], hist1.astype(float)/sum(hist1), width, align='center', alpha=0.5, color='g', label='1')\n",
    "    plt.legend(loc='upper right')\n",
    "    plt.show()\n",
    "    return\n",
    "def threshSumSq(ssIn,matIn,sumSqThresh):\n",
    "    ssOut = []\n",
    "    matOut = []\n",
    "    for i in range(0,len(ssIn)):\n",
    "        if ssIn[i] < sumSqThresh:\n",
    "            ssOut.append(ssIn[i])\n",
    "            matOut.append(matIn[i])\n",
    "    return ssOut,matOut\n",
    "def invCov(data):\n",
    "    print data.shape\n",
    "    mn = np.mean(data,axis=0)\n",
    "    data -= mn\n",
    "    cov = np.cov(data.T)\n",
    "    print 'det of cov:' + '\\t' + np.linalg.det(cov)\n",
    "    iCov = np.linalg.inv(cov)\n",
    "    return iCov,mn\n",
    "def mahaSq(data,iCov,mn):\n",
    "    data -= mn\n",
    "    mahaSquared = np.einsum('ij,ij->i',np.dot(data,iCov),data)\n",
    "    return mahaSquared\n",
    "def cor2and3(data):\n",
    "    appendOk = 0\n",
    "    corOut = 0\n",
    "    goodSamples = np.logical_not(np.all(data == 0,axis=1))\n",
    "    if goodSamples.sum() != 0:\n",
    "        appendOk = 1\n",
    "        data = data[goodSamples,2:4]\n",
    "        corOut = np.corrcoef(data.T)[0,1]\n",
    "    return appendOk,corOut\n",
    "def varExp(data):\n",
    "    pca = PCA(n_components=2)\n",
    "    pca.fit(data)\n",
    "    return pca.explained_variance_ratio_\n",
    "def plotData(matFile):\n",
    "    print matFile\n",
    "    matPath=os.path.join(dataSetPath,matFile)\n",
    "    data = loadmat(os.path.join(dataSetPath,matFile))['dataStruct']['data'][0][0,]\n",
    "    goodSamples = np.logical_not(np.all(data == 0,axis=1))\n",
    "    data = data[goodSamples,:]\n",
    "    plt.plot(data)\n",
    "    plt.ylim(-200,200)\n",
    "    plt.show()\n",
    "    return data\n",
    "def plotCorr(matFile):\n",
    "    data = loadmat(os.path.join(dataSetPath,matFile))['dataStruct']['data'][0][0,]\n",
    "    goodData = data[np.logical_not(np.all(data == 0,axis=1)),:]\n",
    "    x = np.corrcoef(goodData.T)\n",
    "    fig,ax = plt.subplots()\n",
    "    p = ax.imshow(x,interpolation='nearest',cmap=plt.cm.hot,vmin=-1, vmax=1)\n",
    "    cb = plt.colorbar(p,shrink=0.5)\n",
    "    ax.set_xlabel('Ch')\n",
    "    ax.set_ylabel('Ch')\n",
    "    ax.set_title(matFile)\n",
    "    cb.set_label('Corr')\n",
    "    plt.show()\n",
    "    return data\n",
    "def plotRoc(fpr,tpr,auc,rocTitle):\n",
    "    plt.figure()\n",
    "    lw = 2\n",
    "    plt.plot(fpr, tpr, color='darkorange',\n",
    "             lw=lw, label='ROC curve (area = %0.2f)' % auc)\n",
    "    plt.plot([0, 1], [0, 1], color='navy', lw=lw, linestyle='--')\n",
    "    plt.xlim([0.0, 1.0])\n",
    "    plt.ylim([0.0, 1.05])\n",
    "    plt.xlabel('False Positive Rate')\n",
    "    plt.ylabel('True Positive Rate')\n",
    "    plt.title(rocTitle)\n",
    "    plt.legend(loc=\"lower right\")\n",
    "    plt.show()\n",
    "def rocLogReg(X,yTrue):\n",
    "    logreg = linear_model.LogisticRegression()\n",
    "    logreg.fit(X,yTrue)\n",
    "    yPred = logreg.predict(X)\n",
    "    yPredProb = logreg.predict_proba(X)[:,1]\n",
    "    auc = roc_auc_score(yTrue, yPredProb)\n",
    "    fpr, tpr, thresholds = roc_curve(yTrue,yPredProb,pos_label=True)\n",
    "    print X.shape[1],sum(yTrue == yPred),len(yTrue),float(sum(yTrue == yPred))/len(yTrue), auc\n",
    "    plotRoc(fpr,tpr,auc,'')\n",
    "    return auc,yPredProb\n",
    "def sigFeat(dataFeatures,yTrue):\n",
    "    pList = []\n",
    "    for i in range(0,nrLowTri):\n",
    "        _,p = mannwhitneyu(dataFeatures[np.logical_not(yTrue),i],dataFeatures[yTrue,i])\n",
    "        pList.append(p)\n",
    "    return dataFeatures[:,np.asarray(pList) < 0.05/nrLowTri]\n",
    "def specEdge(data):\n",
    "    okSamp = int(8*400)\n",
    "    bin40hz = 40*8\n",
    "    goodSamples = np.logical_not(np.all(data == 0,axis=1))\n",
    "    diffGoodSamples = np.diff(np.concatenate(([0],goodSamples.astype(float),[0])))\n",
    "    okStartEnd = np.where(diffGoodSamples > 0)[0],np.where(diffGoodSamples < 0)[0]\n",
    "    okLen = okStartEnd[1] - okStartEnd[0]\n",
    "    okLong = np.asarray(okStartEnd)[:,np.asarray(okLen) > okSamp]\n",
    "    if okLong.sum() == 0:\n",
    "        edgeFreq = -1\n",
    "    else:\n",
    "        data = data.mean(axis=1)\n",
    "        data -= data.mean()\n",
    "        a = np.empty( shape=(0,okSamp) )\n",
    "        for i in range(0,okLong.shape[1]):\n",
    "            for j in range(okLong[0,i]+okSamp,okLong[1,i],okSamp):\n",
    "                a = np.vstack([a,data[j-okSamp:j]])\n",
    "        b = np.repeat(np.blackman(a.shape[1]).reshape((-1,1)),a.shape[0],axis=1).T\n",
    "        c = np.multiply(a,b)\n",
    "        spec40hz = np.mean(np.absolute(np.fft.fft(c,axis=1)),axis=0)[0:bin40hz]\n",
    "        edgeFreq = np.where(np.diff(np.cumsum(spec40hz) < spec40hz.sum()/2))[0][0]\n",
    "    return edgeFreq"
   ]
  },
  {
   "cell_type": "code",
   "execution_count": 561,
   "metadata": {
    "code_folding": [],
    "collapsed": false
   },
   "outputs": [
    {
     "name": "stdout",
     "output_type": "stream",
     "text": [
      "0.0\n"
     ]
    }
   ],
   "source": [
    "# make feature dictionaries\n",
    "ssFeat = {}\n",
    "corFeat = {}\n",
    "covFeat = {}\n",
    "edgeFeat = {}\n",
    "matClass = subjMatClass(dataSetPath)\n",
    "loopNr = 0\n",
    "nrMatAtStart = len(matClass)\n",
    "for matFile in matClass.keys():\n",
    "    time0 = time.time()\n",
    "    loopNr += 1\n",
    "    try:\n",
    "        data = loadmat(os.path.join(dataSetPath,matFile))['dataStruct']['data'][0][0,]\n",
    "    except ValueError:\n",
    "        del matClass[matFile]\n",
    "        continue\n",
    "    goodSamples = np.logical_not(np.all(data == 0,axis=1))\n",
    "    if np.all(goodSamples == 0):\n",
    "        del matClass[matFile]\n",
    "        continue\n",
    "    else:\n",
    "        edgeFreq = specEdge(data)\n",
    "        if edgeFreq < 0:\n",
    "            del matClass[matFile]\n",
    "            continue\n",
    "        else:\n",
    "            # process data\n",
    "            ssFeat[matFile] = sumSq(data[goodSamples,:])\n",
    "            corFeat[matFile] = corVector(data[goodSamples,:])\n",
    "            covFeat[matFile] = covVector(data[goodSamples,:])\n",
    "            edgeFeat[matFile] = edgeFreq\n",
    "    print(str( (nrMatAtStart - loopNr)*(time.time() - time0) ))\n",
    "    clear_output(wait=True)"
   ]
  },
  {
   "cell_type": "code",
   "execution_count": null,
   "metadata": {
    "collapsed": true
   },
   "outputs": [],
   "source": []
  },
  {
   "cell_type": "code",
   "execution_count": 393,
   "metadata": {
    "collapsed": false
   },
   "outputs": [
    {
     "data": {
      "text/plain": [
       "[0, 2, 4]"
      ]
     },
     "execution_count": 393,
     "metadata": {},
     "output_type": "execute_result"
    }
   ],
   "source": [
    "a = range(0,5,2)\n",
    "a"
   ]
  },
  {
   "cell_type": "code",
   "execution_count": 396,
   "metadata": {
    "collapsed": false
   },
   "outputs": [
    {
     "data": {
      "text/plain": [
       "(3200, 3200)"
      ]
     },
     "execution_count": 396,
     "metadata": {},
     "output_type": "execute_result"
    }
   ],
   "source": [
    "137566-134366,okSamp"
   ]
  },
  {
   "cell_type": "code",
   "execution_count": 485,
   "metadata": {
    "collapsed": false
   },
   "outputs": [
    {
     "data": {
      "text/plain": [
       "(3200, 1)"
      ]
     },
     "execution_count": 485,
     "metadata": {},
     "output_type": "execute_result"
    }
   ],
   "source": [
    "b.reshape((-1,1)).shape"
   ]
  },
  {
   "cell_type": "code",
   "execution_count": 489,
   "metadata": {
    "collapsed": false
   },
   "outputs": [
    {
     "data": {
      "text/plain": [
       "(3200, 1)"
      ]
     },
     "execution_count": 489,
     "metadata": {},
     "output_type": "execute_result"
    }
   ],
   "source": [
    "np.blackman(a.shape[1]).reshape((-1,1)).shape"
   ]
  },
  {
   "cell_type": "code",
   "execution_count": 495,
   "metadata": {
    "collapsed": false
   },
   "outputs": [
    {
     "data": {
      "text/plain": [
       "(31, 3200)"
      ]
     },
     "execution_count": 495,
     "metadata": {},
     "output_type": "execute_result"
    }
   ],
   "source": [
    "b = np.repeat(np.blackman(a.shape[1]).reshape((-1,1)),a.shape[0],axis=1).T.shape"
   ]
  },
  {
   "cell_type": "code",
   "execution_count": 508,
   "metadata": {
    "collapsed": false
   },
   "outputs": [
    {
     "data": {
      "text/plain": [
       "320"
      ]
     },
     "execution_count": 508,
     "metadata": {},
     "output_type": "execute_result"
    }
   ],
   "source": [
    "bin40hz = 40*8\n",
    "bin40hz"
   ]
  },
  {
   "cell_type": "code",
   "execution_count": 521,
   "metadata": {
    "collapsed": false
   },
   "outputs": [
    {
     "data": {
      "text/plain": [
       "149"
      ]
     },
     "execution_count": 521,
     "metadata": {},
     "output_type": "execute_result"
    }
   ],
   "source": [
    "spec40hz = np.mean(np.absolute(np.fft.fft(c,axis=1)),axis=0)[0:bin40hz]\n",
    "np.where(np.diff(np.cumsum(spec40hz) < spec40hz.sum()/2))[0][0]"
   ]
  },
  {
   "cell_type": "code",
   "execution_count": 543,
   "metadata": {
    "collapsed": false
   },
   "outputs": [
    {
     "name": "stdout",
     "output_type": "stream",
     "text": [
      "(19, 3200)\n",
      "(19, 3200)\n",
      "146\n",
      "(320,)\n"
     ]
    },
    {
     "data": {
      "image/png": "[encoded data removed]",
      "text/plain": [
       "<matplotlib.figure.Figure at 0x7f5256a23650>"
      ]
     },
     "metadata": {},
     "output_type": "display_data"
    }
   ],
   "source": [
    "data = loadmat(os.path.join(dataSetPath,'1_867_0.mat'))['dataStruct']['data'][0][0,]\n",
    "# #data = loadmat(os.path.join(dataSetPath,'1_1114_0.mat'))['dataStruct']['data'][0][0,]\n",
    "# #data = loadmat(os.path.join(dataSetPath,'1_951_0.mat'))['dataStruct']['data'][0][0,]\n",
    "# #data = loadmat(os.path.join(dataSetPath,'1_867_0.mat'))['dataStruct']['data'][0][0,]\n",
    "# #data = loadmat(os.path.join(dataSetPath,'1_136_1.mat'))['dataStruct']['data'][0][0,]\n",
    "# #data = loadmat(os.path.join(dataSetPath,'1_106_1.mat'))['dataStruct']['data'][0][0,]\n",
    "# #data = loadmat(os.path.join(dataSetPath,'1_138_1.mat'))['dataStruct']['data'][0][0,]\n",
    "\n",
    "# get segments > 8 sec\n",
    "okSamp = int(8*400)\n",
    "bin40hz = 40*8\n",
    "goodSamples = np.logical_not(np.all(data == 0,axis=1))\n",
    "diffGoodSamples = np.diff(np.concatenate(([0],goodSamples.astype(float),[0])))\n",
    "okStartEnd = np.where(diffGoodSamples > 0)[0],np.where(diffGoodSamples < 0)[0]\n",
    "okLen = okStartEnd[1] - okStartEnd[0]\n",
    "okLong = np.asarray(okStartEnd)[:,np.asarray(okLen) > okSamp]\n",
    "# print okLong\n",
    "data = data.mean(axis=1)\n",
    "data -= data.mean()\n",
    "a = np.empty( shape=(0,okSamp) )\n",
    "for i in range(0,okLong.shape[1]):\n",
    "    for j in range(okLong[0,i]+okSamp,okLong[1,i],okSamp):\n",
    "        a = np.vstack([a,data[j-okSamp:j]])\n",
    "b = np.repeat(np.blackman(a.shape[1]).reshape((-1,1)),a.shape[0],axis=1).T\n",
    "print a.shape\n",
    "print b.shape\n",
    "c = np.multiply(a,b)\n",
    "# b = np.array(np.blackman(a.shape[1]).reshape((-1,1))\n",
    "# b = np.repeat(np.blackman(a.shape[1]).reshape((-1,1)).shape,a.shape[0],axis=1)\n",
    "spec40hz = np.mean(np.absolute(np.fft.fft(c,axis=1)),axis=0)[0:bin40hz]\n",
    "fEdge = np.where(np.diff(np.cumsum(spec40hz) < spec40hz.sum()/2))[0][0]\n",
    "print fEdge\n",
    "print d.shape\n",
    "plt.plot(spec40hz.T)\n",
    "plt.show()"
   ]
  },
  {
   "cell_type": "code",
   "execution_count": 544,
   "metadata": {
    "code_folding": [
     0
    ],
    "collapsed": false
   },
   "outputs": [],
   "source": [
    "# for matFile in matClass.keys():\n",
    "#     try:\n",
    "#         data = loadmat(os.path.join(dataSetPath,matFile))['dataStruct']['data'][0][0,]\n",
    "#     except ValueError:\n",
    "#         continue\n",
    "#     goodSamples = np.logical_not(np.all(data == 0,axis=1))\n",
    "#     propGood = float(goodSamples.sum())/goodSamples.shape[0]\n",
    "#     if propGood < 0.5:\n",
    "#         print propGood, matFile\n"
   ]
  },
  {
   "cell_type": "code",
   "execution_count": 584,
   "metadata": {
    "collapsed": false
   },
   "outputs": [
    {
     "name": "stdout",
     "output_type": "stream",
     "text": [
      "77 1130 1253 0.901835594573 0.853441483797\n"
     ]
    },
    {
     "data": {
      "image/png": "[encoded data removed]",
      "text/plain": [
       "<matplotlib.figure.Figure at 0x7f5255e82990>"
      ]
     },
     "metadata": {},
     "output_type": "display_data"
    }
   ],
   "source": [
    "yTrue = []\n",
    "ssList = []\n",
    "corList = []\n",
    "covList = []\n",
    "edgeList = []\n",
    "for matFile,preictal in matClass.iteritems():\n",
    "    yTrue.append(preictal)\n",
    "    ssList.append(ssFeat[matFile])\n",
    "    corList.append(corFeat[matFile])\n",
    "    covList.append(covFeat[matFile])\n",
    "    edgeList.append(edgeFeat[matFile])\n",
    "yTrue = np.asarray(yTrue)\n",
    "ssList = np.asarray(ssList)\n",
    "corList = np.asarray(corList)\n",
    "covList = np.asarray(covList)\n",
    "edgeList = np.asarray(edgeList)\n",
    "#auc = rocLogReg(ssList.reshape(-1,1),yTrue)\n",
    "#auc = rocLogReg(sigFeat(corList,yTrue),yTrue)\n",
    "auc,yPredProb = rocLogReg(sigFeat(covList,yTrue),yTrue)\n",
    "#auc,yPredProb = rocLogReg(edgeList.reshape(-1,1),yTrue)\n"
   ]
  },
  {
   "cell_type": "code",
   "execution_count": 585,
   "metadata": {
    "collapsed": false
   },
   "outputs": [
    {
     "data": {
      "image/png": "[encoded data removed]",
      "text/plain": [
       "<matplotlib.figure.Figure at 0x7f5255f36710>"
      ]
     },
     "metadata": {},
     "output_type": "display_data"
    }
   ],
   "source": [
    "plt.plot(np.sort(yPredProb))\n",
    "plt.show()"
   ]
  },
  {
   "cell_type": "code",
   "execution_count": null,
   "metadata": {
    "code_folding": [
     0
    ],
    "collapsed": true
   },
   "outputs": [],
   "source": [
    "# Get all valid mat files¶\n",
    "matClass0,matClass1 = dirMatClassList(dataSetPath)\n",
    "len(matClass0),len(matClass1)\n",
    "# Get sumSq for each class\n",
    "featSumSq0,matSumSq0 = genFeature(sumSq,matClass0)\n",
    "featSumSq1,matSumSq1 = genFeature(sumSq,matClass1)\n",
    "# Get data with sumSq < 600\n",
    "sumSqThresh = 600\n",
    "sumSqThresh0,matThresh0 = threshSumSq(featSumSq0,matSumSq0,sumSqThresh)\n",
    "sumSqThresh1,matThresh1 = threshSumSq(featSumSq1,matSumSq1,sumSqThresh)\n",
    "# Plot sumSq histograms\n",
    "histFeatures(sumSqThresh0,sumSqThresh1)\n",
    "# Get corr vector lists\n",
    "corVec0,matCorVec0 = genFeature(corrVector,matThresh0)\n",
    "corVec1,matCorVec1 = genFeature(corrVector,matThresh1)"
   ]
  },
  {
   "cell_type": "code",
   "execution_count": 3,
   "metadata": {
    "code_folding": [
     0
    ],
    "collapsed": false
   },
   "outputs": [],
   "source": [
    "# corVec0,matCorVec0 = genFeature(corrVector,matSumSq0)\n",
    "# corVec1,matCorVec1 = genFeature(corrVector,matSumSq1)\n",
    "# PCA of (corVec0 + corVec1)\n",
    "# Hypothesis: first PC's will separate classes. & avoids problems of maha approach if cov is near singular\n",
    "pca = PCA(n_components=5)\n",
    "corVec01 = np.asarray(corVec0+corVec1)\n",
    "corVec01 -= np.mean(corVec01,axis=0)\n",
    "pca.fit(corVec01)\n",
    "pca0 = np.dot(np.asarray(corVec0),pca.components_.T)\n",
    "pca1 = np.dot(np.asarray(corVec1),pca.components_.T)\n",
    "i=0\n",
    "histFeatures(pca0[:,i],pca1[:,i])\n",
    "# Get maha dist^2 to each class centroid\n",
    "mahaSq00 = mahaSq(np.asarray(corVec0),iCov0,mn0)\n",
    "mahaSq01 = mahaSq(np.asarray(corVec0),iCov1,mn1)\n",
    "mahaSq10 = mahaSq(np.asarray(corVec1),iCov0,mn0)\n",
    "mahaSq11 = mahaSq(np.asarray(corVec1),iCov1,mn1)\n",
    "# Plot sumSq histograms\n",
    "histFeatures(mahaSq00,mahaSq10)\n",
    "histFeatures(mahaSq11,mahaSq01)\n",
    "histFeatures(mahaSq00,mahaSq01)\n",
    "histFeatures(mahaSq11,mahaSq10)\n",
    "# Get cov vector lists\n",
    "covVec0,matCovVec0 = genFeature(covVector,matThresh0)\n",
    "covVec1,matCovVec1 = genFeature(covVector,matThresh1)\n",
    "pca = PCA(n_components=5)\n",
    "covVec01 = np.asarray(covVec0+covVec1)\n",
    "covVec01 -= np.mean(covVec01,axis=0)\n",
    "pca.fit(covVec01)\n",
    "pca0 = np.dot(np.asarray(covVec0),pca.components_.T)\n",
    "pca1 = np.dot(np.asarray(covVec1),pca.components_.T)\n",
    "i=0\n",
    "histFeatures(pca0[:,i],pca1[:,i])\n",
    "# cor cell t-tests\n",
    "\n",
    "# Get mean / invCov of covVec's\n",
    "iCov0,mn0 = invCov(np.asarray(covVec0))\n",
    "iCov1,mn1 = invCov(np.asarray(covVec1))\n",
    "# Get maha dist^2 to each class centroid\n",
    "mahaSq00 = mahaSq(np.asarray(covVec0),iCov0,mn0)\n",
    "mahaSq01 = mahaSq(np.asarray(covVec0),iCov1,mn1)\n",
    "mahaSq10 = mahaSq(np.asarray(covVec1),iCov0,mn0)\n",
    "mahaSq11 = mahaSq(np.asarray(covVec1),iCov1,mn1)\n",
    "# Plot sumSq histograms\n",
    "histFeatures(mahaSq00,mahaSq10)\n",
    "histFeatures(mahaSq11,mahaSq01)\n",
    "histFeatures(mahaSq00,mahaSq01)\n",
    "histFeatures(mahaSq11,mahaSq10)"
   ]
  }
 ],
 "metadata": {
  "anaconda-cloud": {},
  "hide_input": false,
  "kernelspec": {
   "display_name": "Python [conda root]",
   "language": "python",
   "name": "conda-root-py"
  },
  "language_info": {
   "codemirror_mode": {
    "name": "ipython",
    "version": 2
   },
   "file_extension": ".py",
   "mimetype": "text/x-python",
   "name": "python",
   "nbconvert_exporter": "python",
   "pygments_lexer": "ipython2",
   "version": "2.7.12"
  }
 },
 "nbformat": 4,
 "nbformat_minor": 1
}
