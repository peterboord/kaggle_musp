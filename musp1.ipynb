{
 "cells": [
  {
   "cell_type": "code",
   "execution_count": 266,
   "metadata": {
    "collapsed": false
   },
   "outputs": [],
   "source": [
    "import sys\n",
    "from scipy.io import loadmat\n",
    "import os\n",
    "import time\n",
    "import numpy as np\n",
    "muspDir='/home/pboord/Downloads/kaggle/musp'\n",
    "dataDir=os.path.join(muspDir,'data')\n",
    "dataSet='train_1'\n",
    "dataSetPath=os.path.join(dataDir,dataSet)\n",
    "# matFile = '1_45_1.mat'\n",
    "# matPath=os.path.join(dataSetPath,matFile)\n",
    "# mat files in directory\n",
    "matFileList = []\n",
    "for (dirpath, dirnames, filenames) in os.walk(dataSetPath):\n",
    "    matFileList.extend(filenames)\n",
    "    break\n",
    "from IPython.display import clear_output"
   ]
  },
  {
   "cell_type": "code",
   "execution_count": 267,
   "metadata": {
    "collapsed": false
   },
   "outputs": [],
   "source": [
    "import csv\n",
    "matSafe = {}\n",
    "with open(os.path.join(muspDir,'train_and_test_data_labels_safe.csv')) as csvfile:\n",
    "    reader = csv.DictReader(csvfile)\n",
    "    for row in reader:\n",
    "        matSafe[row['image']] = row['safe']"
   ]
  },
  {
   "cell_type": "code",
   "execution_count": 268,
   "metadata": {
    "collapsed": false
   },
   "outputs": [
    {
     "name": "stdout",
     "output_type": "stream",
     "text": [
      "172.037719965\n",
      "['1_45_1.mat']\n"
     ]
    }
   ],
   "source": [
    "dataClass0 = []\n",
    "dataClass1 = []\n",
    "badFiles = []\n",
    "time0 = time.time()\n",
    "loopNr = 0\n",
    "queueLen = 50\n",
    "timeQueue = np.zeros((queueLen,1))\n",
    "for matFile in matFileList:\n",
    "    if matSafe[matFile] == '1':\n",
    "        time1 = time.time()\n",
    "        matPath=os.path.join(dataSetPath,matFile)\n",
    "        try:\n",
    "            data = loadmat(matPath)['dataStruct']['data'][0][0,]\n",
    "        except ValueError:\n",
    "            badFiles.append(matFile)\n",
    "            continue\n",
    "        goodSamples = np.logical_not(np.all(data == 0,axis=1))\n",
    "        if goodSamples.sum() != 0:\n",
    "            dataGood = data[goodSamples,:]\n",
    "            ss = np.sum(np.square(dataGood))/np.prod(dataGood.shape)\n",
    "            if str.split(matFile.split('_')[2],'.')[0] == '0':\n",
    "                dataClass0.append(ss)\n",
    "            else:\n",
    "                dataClass1.append(ss)\n",
    "        time2 = time.time()\n",
    "        restart_line\n",
    "        loopNr += 1\n",
    "        timeQueue[loopNr % queueLen] = time2 - time1\n",
    "        if loopNr > queueLen:\n",
    "            print(str((len(matFileList) - loopNr)*timeQueue.mean()))\n",
    "            clear_output(wait=True)\n",
    "print str(time2 - time0)\n",
    "print badFiles"
   ]
  },
  {
   "cell_type": "code",
   "execution_count": 269,
   "metadata": {
    "collapsed": false
   },
   "outputs": [
    {
     "data": {
      "image/png": "[encoded data removed]",
      "text/plain": [
       "<matplotlib.figure.Figure at 0x7f28ca67fed0>"
      ]
     },
     "metadata": {},
     "output_type": "display_data"
    }
   ],
   "source": [
    "from matplotlib import pyplot\n",
    "bin_edges = np.histogram(dataClass0 + dataClass1)[1]\n",
    "width = 0.5 * (bin_edges[1] - bin_edges[0])\n",
    "hist0 = np.histogram(dataClass0,bin_edges)[0]\n",
    "hist1 = np.histogram(dataClass1,bin_edges)[0]\n",
    "pyplot.bar(bin_edges[0:10], hist0.astype(float)/sum(hist0), width, alpha=0.5, color='r', label='0')\n",
    "pyplot.bar(bin_edges[0:10], hist1.astype(float)/sum(hist1), width, align='center', alpha=0.5, color='g', label='1')\n",
    "pyplot.legend(loc='upper right')\n",
    "pyplot.show()"
   ]
  },
  {
   "cell_type": "code",
   "execution_count": 271,
   "metadata": {
    "collapsed": false
   },
   "outputs": [
    {
     "name": "stdout",
     "output_type": "stream",
     "text": [
      "201.756026983\n",
      "['1_45_1.mat']\n"
     ]
    }
   ],
   "source": [
    "dataClass0 = []\n",
    "dataClass1 = []\n",
    "badFiles = []\n",
    "time0 = time.time()\n",
    "loopNr = 0\n",
    "queueLen = 50\n",
    "timeQueue = np.zeros((queueLen,1))\n",
    "for matFile in matFileList:\n",
    "    if matSafe[matFile] == '1':\n",
    "        time1 = time.time()\n",
    "        matPath=os.path.join(dataSetPath,matFile)\n",
    "        try:\n",
    "            data = loadmat(matPath)['dataStruct']['data'][0][0,]\n",
    "        except ValueError:\n",
    "            badFiles.append(matFile)\n",
    "            continue\n",
    "        goodSamples = np.logical_not(np.all(data == 0,axis=1))\n",
    "        if goodSamples.sum() != 0:\n",
    "            dataGood = data[goodSamples,:]\n",
    "            ss = np.sum(np.square(dataGood))/np.prod(dataGood.shape)\n",
    "            if ss < 600:\n",
    "                if str.split(matFile.split('_')[2],'.')[0] == '0':\n",
    "                    dataClass0.append(ss)\n",
    "                else:\n",
    "                    dataClass1.append(ss)\n",
    "        time2 = time.time()\n",
    "        restart_line\n",
    "        loopNr += 1\n",
    "        timeQueue[loopNr % queueLen] = time2 - time1\n",
    "        if loopNr > queueLen:\n",
    "            print(str((len(matFileList) - loopNr)*timeQueue.mean()))\n",
    "            clear_output(wait=True)\n",
    "print str(time2 - time0)\n",
    "print badFiles"
   ]
  },
  {
   "cell_type": "code",
   "execution_count": 272,
   "metadata": {
    "collapsed": false
   },
   "outputs": [
    {
     "data": {
      "image/png": "[encoded data removed]",
      "text/plain": [
       "<matplotlib.figure.Figure at 0x7f28ca385810>"
      ]
     },
     "metadata": {},
     "output_type": "display_data"
    }
   ],
   "source": [
    "from matplotlib import pyplot\n",
    "bin_edges = np.histogram(dataClass0 + dataClass1)[1]\n",
    "width = 0.5 * (bin_edges[1] - bin_edges[0])\n",
    "hist0 = np.histogram(dataClass0,bin_edges)[0]\n",
    "hist1 = np.histogram(dataClass1,bin_edges)[0]\n",
    "pyplot.bar(bin_edges[0:10], hist0.astype(float)/sum(hist0), width, alpha=0.5, color='r', label='0')\n",
    "pyplot.bar(bin_edges[0:10], hist1.astype(float)/sum(hist1), width, align='center', alpha=0.5, color='g', label='1')\n",
    "pyplot.legend(loc='upper right')\n",
    "pyplot.show()"
   ]
  },
  {
   "cell_type": "code",
   "execution_count": 273,
   "metadata": {
    "collapsed": false
   },
   "outputs": [
    {
     "data": {
      "text/plain": [
       "(102, 32)"
      ]
     },
     "execution_count": 273,
     "metadata": {},
     "output_type": "execute_result"
    }
   ],
   "source": [
    "len(dataClass0),len(dataClass1)"
   ]
  },
  {
   "cell_type": "code",
   "execution_count": 72,
   "metadata": {
    "collapsed": false
   },
   "outputs": [],
   "source": [
    "# good data indices\n",
    "goodSamples = np.logical_not(np.all(data == 0,axis=1))\n",
    "# diffGoodSamples = np.diff(np.concatenate(([0],goodSamples.astype(float),[0])))\n",
    "# okStart = np.where(diffGoodSamples > 0)[0]\n",
    "# okEnd = np.where(diffGoodSamples < 0)[0]\n",
    "# okLen = okEnd - okStart"
   ]
  },
  {
   "cell_type": "code",
   "execution_count": 75,
   "metadata": {
    "collapsed": true
   },
   "outputs": [],
   "source": [
    "# sum of squares\n",
    "dataGood = data[goodSamples,:]\n",
    "ss = np.sum(np.square(dataGood))/np.prod(dataGood.shape)"
   ]
  }
 ],
 "metadata": {
  "kernelspec": {
   "display_name": "Python [conda root]",
   "language": "python",
   "name": "conda-root-py"
  },
  "language_info": {
   "codemirror_mode": {
    "name": "ipython",
    "version": 2
   },
   "file_extension": ".py",
   "mimetype": "text/x-python",
   "name": "python",
   "nbconvert_exporter": "python",
   "pygments_lexer": "ipython2",
   "version": "2.7.12"
  }
 },
 "nbformat": 4,
 "nbformat_minor": 1
}
